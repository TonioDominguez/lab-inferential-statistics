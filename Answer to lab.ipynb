{
 "cells": [
  {
   "cell_type": "markdown",
   "id": "ea55464b",
   "metadata": {},
   "source": [
    "# Lab | Inferential statistics"
   ]
  },
  {
   "cell_type": "markdown",
   "id": "3f8254ef",
   "metadata": {},
   "source": [
    "### Instructions\n",
    "\n",
    "1. It is assumed that the mean systolic blood pressure is `μ = 120 mm Hg`. In the Honolulu Heart Study, a sample of `n = 100` people had an average systolic blood pressure of 130.1 mm Hg with a standard deviation of 21.21 mm Hg. Is the group significantly different (with respect to systolic blood pressure!) from the regular population?\n",
    "\n",
    "   - Set up the hypothesis test.\n",
    "   - Write down all the steps followed for setting up the test.\n",
    "   - Calculate the test statistic by hand and also code it in Python. It should be 4.76190. We will take a look at how to make decisions based on this calculated value."
   ]
  },
  {
   "cell_type": "markdown",
   "id": "4976dde4",
   "metadata": {},
   "source": [
    "#### Hypothesis test"
   ]
  },
  {
   "cell_type": "markdown",
   "id": "e25baf41",
   "metadata": {},
   "source": [
    "H0 = The mean systolic blood pressure for HHS sample is != to the mean systolic blood pressure population.\n",
    "\n",
    "H1 = The mean systolic blood pressure for HHS sample is == to the mean systolic blood pressure population.\n",
    "\n",
    "mu = 120 mm\n",
    "\n",
    "HHS mean = 130.1 mm\n",
    "\n",
    "HHS std = 21.21 mm\n",
    "\n",
    "HHS sample = 100\n",
    "\n",
    "significance level = 5%"
   ]
  },
  {
   "cell_type": "markdown",
   "id": "7234710a",
   "metadata": {},
   "source": [
    "#### Hands on!"
   ]
  },
  {
   "cell_type": "code",
   "execution_count": 13,
   "id": "1e181aa1",
   "metadata": {},
   "outputs": [],
   "source": [
    "import numpy as np\n",
    "import scipy.stats as st"
   ]
  },
  {
   "cell_type": "code",
   "execution_count": 19,
   "id": "5973cf93",
   "metadata": {},
   "outputs": [],
   "source": [
    "mu = 120\n",
    "HHS_mean = 130.1\n",
    "HHS_std = 21.21\n",
    "n = 100\n",
    "alpha = 0.05"
   ]
  },
  {
   "cell_type": "code",
   "execution_count": 20,
   "id": "250b1359",
   "metadata": {},
   "outputs": [],
   "source": [
    "#Having all necesaries variables, we calculate the Test Statistic"
   ]
  },
  {
   "cell_type": "code",
   "execution_count": 28,
   "id": "064eeabc",
   "metadata": {},
   "outputs": [
    {
     "data": {
      "text/plain": [
       "4.761904761904759"
      ]
     },
     "execution_count": 28,
     "metadata": {},
     "output_type": "execute_result"
    }
   ],
   "source": [
    "stat = (HHS_mean - mu) / (HHS_std/ np.sqrt(n))\n",
    "stat # stat = (sample mean - population mean) / (standard deviation / square root of size)"
   ]
  },
  {
   "cell_type": "code",
   "execution_count": 29,
   "id": "e2ab23af",
   "metadata": {},
   "outputs": [],
   "source": [
    "#With test statistic, lets see p value to evaluate our hypotesis"
   ]
  },
  {
   "cell_type": "code",
   "execution_count": 32,
   "id": "427d758d",
   "metadata": {},
   "outputs": [],
   "source": [
    "p_value = st.t.sf(abs(stat), n-1)*2"
   ]
  },
  {
   "cell_type": "code",
   "execution_count": 33,
   "id": "0523a45e",
   "metadata": {},
   "outputs": [
    {
     "data": {
      "text/plain": [
       "3.2813509086043083e-06"
      ]
     },
     "execution_count": 33,
     "metadata": {},
     "output_type": "execute_result"
    }
   ],
   "source": [
    "p_value"
   ]
  },
  {
   "cell_type": "code",
   "execution_count": 34,
   "id": "c3010242",
   "metadata": {},
   "outputs": [
    {
     "data": {
      "text/plain": [
       "False"
      ]
     },
     "execution_count": 34,
     "metadata": {},
     "output_type": "execute_result"
    }
   ],
   "source": [
    "p_value > alpha"
   ]
  },
  {
   "cell_type": "code",
   "execution_count": null,
   "id": "adfa38e3",
   "metadata": {},
   "outputs": [],
   "source": [
    "#We must reject H0 because p value is lower than 5% of significance level"
   ]
  }
 ],
 "metadata": {
  "kernelspec": {
   "display_name": "Python 3 (ipykernel)",
   "language": "python",
   "name": "python3"
  },
  "language_info": {
   "codemirror_mode": {
    "name": "ipython",
    "version": 3
   },
   "file_extension": ".py",
   "mimetype": "text/x-python",
   "name": "python",
   "nbconvert_exporter": "python",
   "pygments_lexer": "ipython3",
   "version": "3.11.5"
  }
 },
 "nbformat": 4,
 "nbformat_minor": 5
}
